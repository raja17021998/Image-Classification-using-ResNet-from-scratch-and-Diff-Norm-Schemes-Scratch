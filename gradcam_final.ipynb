{
 "cells": [
  {
   "cell_type": "code",
   "execution_count": 7,
   "metadata": {},
   "outputs": [],
   "source": [
    "from pytorch_grad_cam import GradCAM, HiResCAM, ScoreCAM, GradCAMPlusPlus, AblationCAM, XGradCAM, EigenCAM, FullGrad\n",
    "from pytorch_grad_cam.utils.model_targets import ClassifierOutputTarget\n",
    "from pytorch_grad_cam.utils.image import show_cam_on_image\n",
    "from torchvision.models import resnet50\n",
    "\n",
    "from resnet import *\n",
    "import torch \n",
    "import random\n",
    "import os\n",
    "from collections import OrderedDict\n",
    "import torch\n",
    "from torchvision.transforms import Compose, Resize, ToTensor\n",
    "from PIL import Image\n",
    "import numpy as np\n",
    "import cv2\n",
    "from pytorch_grad_cam import GradCAM\n",
    "from pytorch_grad_cam.utils.model_targets import ClassifierOutputTarget\n",
    "from pytorch_grad_cam.utils.image import show_cam_on_image"
   ]
  },
  {
   "cell_type": "code",
   "execution_count": 22,
   "metadata": {},
   "outputs": [
    {
     "name": "stdout",
     "output_type": "stream",
     "text": [
      "2 2 2 2 2 2 2 2 2 2 7 7 7 7 7 7 7 7 7 7 13 13 13 13 13 13 13 13 13 13 18 18 18 18 18 18 18 18 18 18 19 19 19 19 19 19 19 19 19 19 22 22 22 22 22 22 22 22 22 22 23 23 23 23 23 23 23 23 23 23 "
     ]
    }
   ],
   "source": [
    "\n",
    "\n",
    "# Assuming ResNet18 and MyBatchInstanceNorm2d are defined elsewhere\n",
    "# model = ResNet18(...)\n",
    "\n",
    "\n",
    "def ResNetModel(img_channel=3, num_classes=25, norm_type='bin'):\n",
    "    return ResNet(Block, [2,2,2], img_channel, num_classes, norm_type)\n",
    "device = torch.device(\"cuda\" if torch.cuda.is_available() else \"cpu\")\n",
    "\n",
    "\n",
    "\n",
    "model= ResNetModel(img_channel=3, num_classes=25, norm_type='bin')\n",
    "\n",
    "model_file = \"D:/IITDelhiSoftwares-Documents/Sem2324/COL-775/Assignments/A1/diff_models/n2bs32ep50nc25optRMSproplr-3normbinesTpt4/n2bs32ep50nc25optRMSproplr-3normbinesTpt4_model.pth\"\n",
    "state_dict = torch.load(model_file, map_location='cpu')\n",
    "\n",
    "if next(iter(state_dict)).startswith('module.'):\n",
    "    new_state_dict = OrderedDict()\n",
    "    for k, v in state_dict.items():\n",
    "        name = k[7:]  # remove 'module.' prefix\n",
    "        new_state_dict[name] = v\n",
    "    state_dict = new_state_dict\n",
    "\n",
    "model.load_state_dict(state_dict)\n",
    "model.to('cuda:0')\n",
    "\n",
    "# Grad-CAM setup\n",
    "target_layers = [model.layer3[-1]]\n",
    "cam = GradCAM(model=model, target_layers=target_layers)\n",
    "\n",
    "transform = Compose([Resize((256, 256)), ToTensor()])\n",
    "\n",
    "# Directories\n",
    "img_dir = 'D:/IITDelhiSoftwares-Documents/Sem2324/COL-775/Assignments/A1/Birds_25/train'\n",
    "base_dir = 'D:/IITDelhiSoftwares-Documents/Sem2324/COL-775/Assignments/A1/Birds_25/sample'\n",
    "output_dir = 'D:/IITDelhiSoftwares-Documents/Sem2324/COL-775/Assignments/A1/Birds_25/gradcamoutput'\n",
    "os.makedirs(output_dir, exist_ok=True)\n",
    "\n",
    "# Get all class names from the train directory\n",
    "all_train_classes = sorted(os.listdir(img_dir))\n",
    "\n",
    "# Specified class names for processing\n",
    "class_names = [\n",
    "    'Cattle-Egret', 'Coppersmith-Barbet', 'Indian-Peacock',\n",
    "    'Red-Wattled-Lapwing', 'Ruddy-Shelduck',\n",
    "    'White-Breasted-Kingfisher', 'White-Breasted-Waterhen'\n",
    "]\n",
    "ctr=0\n",
    "for class_name in class_names:\n",
    "    class_dir = os.path.join(base_dir, class_name)\n",
    "    output_class_dir = os.path.join(output_dir, class_name)\n",
    "    os.makedirs(output_class_dir, exist_ok=True)\n",
    "    \n",
    "    # Find the index of the current class in the list of all train classes\n",
    "    class_index = class_indices[]\n",
    "    \n",
    "    for image_file in os.listdir(class_dir):\n",
    "        if image_file.lower().endswith(('.png', '.jpg', '.jpeg')):\n",
    "            image_path = os.path.join(class_dir, image_file)\n",
    "            \n",
    "            # Image processing and Grad-CAM\n",
    "            image = Image.open(image_path)\n",
    "            image_tensor = transform(image).unsqueeze(0).to('cuda:0')\n",
    "            \n",
    "            rgb_img = cv2.imread(image_path, 1)[:, :, ::-1]\n",
    "            rgb_img = np.float32(rgb_img) / 255\n",
    "            print(f\"{class_index}\", end=\" \")\n",
    "            targets = [ClassifierOutputTarget(class_index-1)]\n",
    "            \n",
    "            grayscale_cam = cam(input_tensor=image_tensor, targets=targets)[0, :]\n",
    "            visualization = show_cam_on_image(rgb_img, grayscale_cam, use_rgb=True)\n",
    "            \n",
    "            # Save visualization\n",
    "            output_image_path = os.path.join(output_class_dir, f\"gradcam_{image_file}\")\n",
    "            cv2.imwrite(output_image_path, np.uint8(visualization))"
   ]
  },
  {
   "cell_type": "code",
   "execution_count": 9,
   "metadata": {},
   "outputs": [],
   "source": [
    "import shutil\n",
    "\n",
    "class_names = [\n",
    "    'Cattle-Egret', 'Coppersmith-Barbet', 'Indian-Peacock',\n",
    "    'Red-Wattled-Lapwing', 'Ruddy-Shelduck',\n",
    "    'White-Breasted-Kingfisher', 'White-Breasted-Waterhen'\n",
    "]\n",
    "\n",
    "# Function to copy exactly 10 images from each folder to the sample folder\n",
    "def copy_exact_images(class_dir, sample_class_dir):\n",
    "    image_files = os.listdir(class_dir)\n",
    "    selected_images = random.sample(image_files, min(10, len(image_files)))\n",
    "    for i, image_file in enumerate(selected_images):\n",
    "        if image_file.lower().endswith(('.png', '.jpg', '.jpeg')):\n",
    "            src_path = os.path.join(class_dir, image_file)\n",
    "            dst_path = os.path.join(sample_class_dir, f\"{i+1}_{image_file}\")\n",
    "            shutil.copy(src_path, dst_path)\n",
    "\n",
    "# Create the sample folder\n",
    "sample_dir = os.path.join(base_dir, \"sample\")\n",
    "os.makedirs(sample_dir, exist_ok=True)\n",
    "\n",
    "# Copy exactly 10 images from each class folder to the sample folder\n",
    "for class_name in class_names:\n",
    "    class_dir = os.path.join(img_dir, class_name)\n",
    "    sample_class_dir = os.path.join(sample_dir, class_name)\n",
    "    os.makedirs(sample_class_dir, exist_ok=True)\n",
    "    copy_exact_images(class_dir, sample_class_dir)\n"
   ]
  },
  {
   "cell_type": "code",
   "execution_count": 11,
   "metadata": {},
   "outputs": [
    {
     "data": {
      "text/plain": [
       "23"
      ]
     },
     "execution_count": 11,
     "metadata": {},
     "output_type": "execute_result"
    }
   ],
   "source": [
    "class_index"
   ]
  },
  {
   "cell_type": "code",
   "execution_count": 13,
   "metadata": {},
   "outputs": [
    {
     "data": {
      "text/plain": [
       "['Asian-Green-Bee-Eater',\n",
       " 'Brown-Headed-Barbet',\n",
       " 'Cattle-Egret',\n",
       " 'Common-Kingfisher',\n",
       " 'Common-Myna',\n",
       " 'Common-Rosefinch',\n",
       " 'Common-Tailorbird',\n",
       " 'Coppersmith-Barbet',\n",
       " 'Forest-Wagtail',\n",
       " 'Gray-Wagtail',\n",
       " 'Hoopoe',\n",
       " 'House-Crow',\n",
       " 'Indian-Grey-Hornbill',\n",
       " 'Indian-Peacock',\n",
       " 'Indian-Pitta',\n",
       " 'Indian-Roller',\n",
       " 'Jungle-Babbler',\n",
       " 'Northern-Lapwing',\n",
       " 'Red-Wattled-Lapwing',\n",
       " 'Ruddy-Shelduck',\n",
       " 'Rufous-Treepie',\n",
       " 'Sarus-Crane',\n",
       " 'White-Breasted-Kingfisher',\n",
       " 'White-Breasted-Waterhen',\n",
       " 'White-Wagtail']"
      ]
     },
     "execution_count": 13,
     "metadata": {},
     "output_type": "execute_result"
    }
   ],
   "source": [
    "all_train_classes"
   ]
  },
  {
   "cell_type": "code",
   "execution_count": 23,
   "metadata": {},
   "outputs": [],
   "source": [
    "import pickle"
   ]
  },
  {
   "cell_type": "code",
   "execution_count": 24,
   "metadata": {},
   "outputs": [],
   "source": [
    "def load_saved_data_loaders(file_path):\n",
    "    with open(file_path, 'rb') as f:\n",
    "        train_loader, val_loader, test_loader = pickle.load(f)\n",
    "    return train_loader, val_loader, test_loader"
   ]
  },
  {
   "cell_type": "code",
   "execution_count": 25,
   "metadata": {},
   "outputs": [],
   "source": [
    "train_loader, val_loader, test_loader = load_saved_data_loaders(\"data_loaders.pkl\")"
   ]
  },
  {
   "cell_type": "code",
   "execution_count": null,
   "metadata": {},
   "outputs": [],
   "source": [
    "\n"
   ]
  },
  {
   "cell_type": "code",
   "execution_count": 27,
   "metadata": {},
   "outputs": [
    {
     "name": "stdout",
     "output_type": "stream",
     "text": [
      "Class Indices: [0, 1, 2, 3, 4, 5, 6, 7, 8, 9, 10, 11, 12, 13, 14, 15, 16, 17, 18, 19, 20, 21, 22, 23, 24]\n"
     ]
    }
   ],
   "source": [
    "import pickle\n",
    "\n",
    "# Assuming you have a function to load the data loaders\n",
    "def load_saved_data_loaders(file_path):\n",
    "    with open(file_path, 'rb') as f:\n",
    "        train_loader, val_loader, test_loader = pickle.load(f)\n",
    "    return train_loader, val_loader, test_loader\n",
    "\n",
    "# Load the data loaders from the saved file\n",
    "train_loader, val_loader, test_loader = load_saved_data_loaders(\"data_loaders.pkl\")\n",
    "\n",
    "# Retrieve class names from the dataset associated with the train_loader\n",
    "class_names = train_loader.dataset.classes\n",
    "\n",
    "# Get class indices for the specified class names\n",
    "class_indices = [i for i, class_name in enumerate(class_names) if class_name in class_names]\n",
    "\n",
    "print(\"Class Indices:\", class_indices)"
   ]
  },
  {
   "cell_type": "code",
   "execution_count": 28,
   "metadata": {},
   "outputs": [
    {
     "data": {
      "text/plain": [
       "['Asian-Green-Bee-Eater',\n",
       " 'Brown-Headed-Barbet',\n",
       " 'Cattle-Egret',\n",
       " 'Common-Kingfisher',\n",
       " 'Common-Myna',\n",
       " 'Common-Rosefinch',\n",
       " 'Common-Tailorbird',\n",
       " 'Coppersmith-Barbet',\n",
       " 'Forest-Wagtail',\n",
       " 'Gray-Wagtail',\n",
       " 'Hoopoe',\n",
       " 'House-Crow',\n",
       " 'Indian-Grey-Hornbill',\n",
       " 'Indian-Peacock',\n",
       " 'Indian-Pitta',\n",
       " 'Indian-Roller',\n",
       " 'Jungle-Babbler',\n",
       " 'Northern-Lapwing',\n",
       " 'Red-Wattled-Lapwing',\n",
       " 'Ruddy-Shelduck',\n",
       " 'Rufous-Treepie',\n",
       " 'Sarus-Crane',\n",
       " 'White-Breasted-Kingfisher',\n",
       " 'White-Breasted-Waterhen',\n",
       " 'White-Wagtail']"
      ]
     },
     "execution_count": 28,
     "metadata": {},
     "output_type": "execute_result"
    }
   ],
   "source": [
    "all_train_classes"
   ]
  },
  {
   "cell_type": "code",
   "execution_count": null,
   "metadata": {},
   "outputs": [],
   "source": []
  }
 ],
 "metadata": {
  "kernelspec": {
   "display_name": "Python 3",
   "language": "python",
   "name": "python3"
  },
  "language_info": {
   "codemirror_mode": {
    "name": "ipython",
    "version": 3
   },
   "file_extension": ".py",
   "mimetype": "text/x-python",
   "name": "python",
   "nbconvert_exporter": "python",
   "pygments_lexer": "ipython3",
   "version": "3.11.5"
  }
 },
 "nbformat": 4,
 "nbformat_minor": 2
}
