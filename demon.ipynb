{
 "cells": [
  {
   "cell_type": "code",
   "execution_count": 15,
   "metadata": {},
   "outputs": [
    {
     "name": "stdout",
     "output_type": "stream",
     "text": [
      "<All keys matched successfully>\n",
      "tensor([[-41.7612, -35.3685, -46.0494, -47.3242, -30.9541, -34.7454, -38.5822,\n",
      "         -42.9731, -44.2807, -42.5227, -41.3881, -36.7654, -37.7370, -40.2359,\n",
      "         -43.7405, -40.5509, -39.1613, -48.4646, -47.1554, -52.0124, -45.1971,\n",
      "         -40.1105, -48.0112, -46.8088, -54.3182]], device='cuda:0')\n",
      "\n"
     ]
    }
   ],
   "source": [
    "import os\n",
    "from PIL import Image\n",
    "import torch\n",
    "import torchvision.transforms as transforms\n",
    "from resnet import *  # Assuming 'resnet.py' contains your ResNet implementation\n",
    "import numpy as np \n",
    "\n",
    "\n",
    "normalization= 'gn'\n",
    "def ResNetModel(img_channel=3, num_classes=25, norm_type=normalization):\n",
    "    return ResNet(Block, [2, 2, 2], img_channel, num_classes, norm_type)\n",
    "\n",
    "device = torch.device(\"cuda\" if torch.cuda.is_available() else \"cpu\")\n",
    "\n",
    "model = ResNetModel(img_channel=3, norm_type=normalization, num_classes=25).to(device)\n",
    "print(model.load_state_dict(torch.load(f'part_1.2_{normalization}.pth', map_location=device)))\n",
    "\n",
    "model.eval()\n",
    "\n",
    "\n",
    "test_data_file= \"D:/IITDelhiSoftwares-Documents/Sem2324/COL-775/Assignments/A1/Birds_25/val/Common-Myna\"\n",
    "\n",
    "output_file= \"output.txt\"\n",
    "\n",
    "image_files = sorted(os.listdir(test_data_file))\n",
    "with open(output_file, 'w') as f:\n",
    "    for image_file in image_files:\n",
    "        image_path = os.path.join(test_data_file, image_file)\n",
    "        image = Image.open(image_path)\n",
    "        transform = transforms.Compose([\n",
    "                transforms.RandomHorizontalFlip(),  \n",
    "                transforms.ColorJitter(brightness=0.2, contrast=0.2, saturation=0.2, hue=0.2),  \n",
    "                transforms.RandomRotation(degrees=10),  \n",
    "                transforms.GaussianBlur(kernel_size=3),  \n",
    "                transforms.Resize((256, 256)),  \n",
    "                transforms.ToTensor(),  \n",
    "                transforms.Normalize((0.5, 0.5, 0.5), (0.5, 0.5, 0.5))   \n",
    "            ])\n",
    "        image = transform(image).unsqueeze(0).to(device)\n",
    "        \n",
    "        # image = torch.tensor(image, dtype=torch.float32) / 255.0\n",
    "        \n",
    "        with torch.no_grad():\n",
    "            output = model(image)\n",
    "            print(f\"{output}\\n\")\n",
    "            predicted_class = torch.argmax(output, dim=1).item()\n",
    "            break\n",
    "        f.write(f\"{predicted_class}\\n\")\n",
    "\n"
   ]
  },
  {
   "cell_type": "code",
   "execution_count": null,
   "metadata": {},
   "outputs": [],
   "source": []
  },
  {
   "cell_type": "code",
   "execution_count": null,
   "metadata": {},
   "outputs": [],
   "source": []
  }
 ],
 "metadata": {
  "kernelspec": {
   "display_name": "Python 3",
   "language": "python",
   "name": "python3"
  },
  "language_info": {
   "codemirror_mode": {
    "name": "ipython",
    "version": 3
   },
   "file_extension": ".py",
   "mimetype": "text/x-python",
   "name": "python",
   "nbconvert_exporter": "python",
   "pygments_lexer": "ipython3",
   "version": "3.11.5"
  }
 },
 "nbformat": 4,
 "nbformat_minor": 2
}
