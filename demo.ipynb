import argparse
import os
from PIL import Image
import torch
import torchvision.transforms as transforms
from resnet import ResNet, Block  # Assuming 'resnet.py' contains your ResNet implementation
import numpy as np 


def inference(model_file, normalization, n, test_data_file, output_file):
    print("Performing inference...")
    print(f"Model file: {model_file}")
    print(f"Normalization scheme: {normalization}")
    print(f"Number of layers: {n}")
    print(f"Test data file: {test_data_file}")
    print(f"Output file: {output_file}")

    def ResNetModel(img_channel=3, num_classes=25, norm_type=normalization):
        return ResNet(Block, [n, n, n], img_channel, num_classes, norm_type)

    device = torch.device("cuda" if torch.cuda.is_available() else "cpu")

    model = ResNetModel(img_channel=3, norm_type=normalization, num_classes=25).to(device)
    print(model.load_state_dict(torch.load(f'{model_file}', map_location=device)))
    model.eval()

    image_files = sorted(os.listdir(test_data_file))
    with open(output_file, 'w') as f:
        for image_file in image_files:
            image_path = os.path.join(test_data_file, image_file)
            image = Image.open(image_path)
            transform = transforms.Compose([
                    transforms.RandomHorizontalFlip(),  
                    transforms.ColorJitter(brightness=0.2, contrast=0.2, saturation=0.2, hue=0.2),  
                    transforms.RandomRotation(degrees=10),  
                    transforms.GaussianBlur(kernel_size=3),  
                    transforms.Resize((256, 256)),  
                    transforms.ToTensor(),  
                    transforms.Normalize((0.5, 0.5, 0.5), (0.5, 0.5, 0.5))   
                ])
            image = transform(image).unsqueeze(0).to(device)
            
            # image = torch.tensor(image, dtype=torch.float32) / 255.0
            
            with torch.no_grad():
                output = model(image)
                print(f"{output}\n")
                predicted_class = torch.argmax(output, dim=1).item()
                break
            f.write(f"{predicted_class}\n")


