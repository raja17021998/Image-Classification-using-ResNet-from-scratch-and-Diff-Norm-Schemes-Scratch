{
 "cells": [
  {
   "cell_type": "code",
   "execution_count": 15,
   "metadata": {},
   "outputs": [],
   "source": [
    "from resnet import * "
   ]
  },
  {
   "cell_type": "code",
   "execution_count": 1,
   "metadata": {},
   "outputs": [
    {
     "name": "stderr",
     "output_type": "stream",
     "text": [
      "d:\\ProgrammingRelated\\AnacondaNavigator\\envs\\pytorch_gpu_cuda\\Lib\\site-packages\\IPython\\core\\display.py:431: UserWarning: Consider using IPython.display.IFrame instead\n",
      "  warnings.warn(\"Consider using IPython.display.IFrame instead\")\n"
     ]
    },
    {
     "data": {
      "text/html": [
       "<iframe src=\"https://docs.google.com/presentation/d/e/2PACX-1vSmdt3WzOYXmWHr-UiTGeI2_8-Y3lF4nPhEpoJ_jDTu6laLGx8WTw53URWjaEReu3hnfQNBCl448ve4/embed?start=false&loop=false&delayms=60000\" frameborder=\"0\" width=\"860\" height=\"489\" allowfullscreen=\"true\" mozallowfullscreen=\"true\" webkitallowfullscreen=\"true\"></iframe>"
      ],
      "text/plain": [
       "<IPython.core.display.HTML object>"
      ]
     },
     "execution_count": 1,
     "metadata": {},
     "output_type": "execute_result"
    }
   ],
   "source": [
    "import IPython\n",
    "myurl='<iframe src=\"https://docs.google.com/presentation/d/e/2PACX-1vSmdt3WzOYXmWHr-UiTGeI2_8-Y3lF4nPhEpoJ_jDTu6laLGx8WTw53URWjaEReu3hnfQNBCl448ve4/embed?start=false&loop=false&delayms=60000\" frameborder=\"0\" width=\"860\" height=\"489\" allowfullscreen=\"true\" mozallowfullscreen=\"true\" webkitallowfullscreen=\"true\"></iframe>'\n",
    "IPython.display.HTML(myurl)\n"
   ]
  },
  {
   "cell_type": "code",
   "execution_count": 2,
   "metadata": {},
   "outputs": [
    {
     "name": "stdout",
     "output_type": "stream",
     "text": [
      "Collecting opencv-python\n",
      "  Downloading opencv_python-4.9.0.80-cp37-abi3-win_amd64.whl.metadata (20 kB)\n",
      "Requirement already satisfied: numpy>=1.21.2 in d:\\programmingrelated\\anacondanavigator\\envs\\pytorch_gpu_cuda\\lib\\site-packages (from opencv-python) (1.26.2)\n",
      "Downloading opencv_python-4.9.0.80-cp37-abi3-win_amd64.whl (38.6 MB)\n",
      "   ---------------------------------------- 0.0/38.6 MB ? eta -:--:--\n",
      "   ---------------------------------------- 0.0/38.6 MB 1.3 MB/s eta 0:00:31\n",
      "   ---------------------------------------- 0.1/38.6 MB 919.0 kB/s eta 0:00:42\n",
      "   ---------------------------------------- 0.2/38.6 MB 1.5 MB/s eta 0:00:27\n",
      "   ---------------------------------------- 0.3/38.6 MB 2.0 MB/s eta 0:00:20\n",
      "    --------------------------------------- 0.6/38.6 MB 2.6 MB/s eta 0:00:15\n",
      "   - -------------------------------------- 1.1/38.6 MB 4.0 MB/s eta 0:00:10\n",
      "   -- ------------------------------------- 2.2/38.6 MB 6.9 MB/s eta 0:00:06\n",
      "   --- ------------------------------------ 3.7/38.6 MB 10.2 MB/s eta 0:00:04\n",
      "   ----- ---------------------------------- 5.3/38.6 MB 13.0 MB/s eta 0:00:03\n",
      "   ------- -------------------------------- 7.0/38.6 MB 15.9 MB/s eta 0:00:02\n",
      "   -------- ------------------------------- 8.5/38.6 MB 17.6 MB/s eta 0:00:02\n",
      "   ---------- ----------------------------- 10.3/38.6 MB 21.9 MB/s eta 0:00:02\n",
      "   ------------ --------------------------- 11.6/38.6 MB 34.4 MB/s eta 0:00:01\n",
      "   ------------- -------------------------- 13.3/38.6 MB 34.4 MB/s eta 0:00:01\n",
      "   --------------- ------------------------ 14.9/38.6 MB 34.4 MB/s eta 0:00:01\n",
      "   ----------------- ---------------------- 16.5/38.6 MB 34.4 MB/s eta 0:00:01\n",
      "   ------------------ --------------------- 18.2/38.6 MB 34.4 MB/s eta 0:00:01\n",
      "   -------------------- ------------------- 19.8/38.6 MB 34.4 MB/s eta 0:00:01\n",
      "   ---------------------- ----------------- 21.4/38.6 MB 34.6 MB/s eta 0:00:01\n",
      "   ----------------------- ---------------- 23.1/38.6 MB 36.4 MB/s eta 0:00:01\n",
      "   ------------------------- -------------- 24.8/38.6 MB 36.4 MB/s eta 0:00:01\n",
      "   --------------------------- ------------ 26.3/38.6 MB 36.4 MB/s eta 0:00:01\n",
      "   ---------------------------- ----------- 27.8/38.6 MB 34.4 MB/s eta 0:00:01\n",
      "   ------------------------------ --------- 29.5/38.6 MB 34.4 MB/s eta 0:00:01\n",
      "   -------------------------------- ------- 31.1/38.6 MB 34.4 MB/s eta 0:00:01\n",
      "   --------------------------------- ------ 32.8/38.6 MB 34.4 MB/s eta 0:00:01\n",
      "   ----------------------------------- ---- 34.4/38.6 MB 34.6 MB/s eta 0:00:01\n",
      "   ------------------------------------- -- 36.1/38.6 MB 34.4 MB/s eta 0:00:01\n",
      "   ---------------------------------------  37.7/38.6 MB 34.4 MB/s eta 0:00:01\n",
      "   ---------------------------------------  38.6/38.6 MB 36.4 MB/s eta 0:00:01\n",
      "   ---------------------------------------  38.6/38.6 MB 36.4 MB/s eta 0:00:01\n",
      "   ---------------------------------------  38.6/38.6 MB 36.4 MB/s eta 0:00:01\n",
      "   ---------------------------------------- 38.6/38.6 MB 22.6 MB/s eta 0:00:00\n",
      "Installing collected packages: opencv-python\n",
      "Successfully installed opencv-python-4.9.0.80\n"
     ]
    }
   ],
   "source": [
    "# !pip install opencv-python"
   ]
  },
  {
   "cell_type": "code",
   "execution_count": 3,
   "metadata": {},
   "outputs": [],
   "source": [
    "import torch\n",
    "import torchvision\n",
    "import numpy as np\n",
    "import cv2\n",
    "from matplotlib import pyplot as plt\n",
    "from PIL import Image"
   ]
  },
  {
   "cell_type": "code",
   "execution_count": 10,
   "metadata": {},
   "outputs": [],
   "source": [
    "# "
   ]
  },
  {
   "cell_type": "code",
   "execution_count": 7,
   "metadata": {},
   "outputs": [
    {
     "name": "stdout",
     "output_type": "stream",
     "text": [
      "Image downloaded successfully.\n",
      "Image downloaded successfully.\n",
      "Image downloaded successfully.\n",
      "Image downloaded successfully.\n"
     ]
    }
   ],
   "source": [
    "import requests\n",
    "\n",
    "# URL of the image to download\n",
    "urls = [\"https://raw.githubusercontent.com/jacobgil/pytorch-grad-cam/master/examples/both.png\", \n",
    "       \"https://encrypted-tbn0.gstatic.com/images?q=tbn:ANd9GcRuoi37sXaQ3S4laQjOV1B-y_UjIZfqVpXMTq1FG4flow&s\", \n",
    "       \"https://encrypted-tbn0.gstatic.com/images?q=tbn:ANd9GcRJkO3h8lbOtqIKojwSUq-OdXM16Gqdw-EEPw&usqp=CAU\",\n",
    "       \"https://encrypted-tbn0.gstatic.com/images?q=tbn:ANd9GcQBAVUIRwCIDpyojuE8GhrR4e0masBs9NEPUg&usqp=CAU\"]\n",
    "\n",
    "# Send a GET request to the URL\n",
    "ctr=0\n",
    "for url in urls:\n",
    "    \n",
    "    response = requests.get(url)\n",
    "\n",
    "    # Check if the request was successful\n",
    "    if response.status_code == 200:\n",
    "        # Save the image\n",
    "        ctr+=1\n",
    "        with open(f'input_image{ctr}.jpg', 'wb') as f:\n",
    "            f.write(response.content)\n",
    "        print(\"Image downloaded successfully.\")\n",
    "    else:\n",
    "        print(\"Failed to download the image. Status code:\", response.status_code)\n"
   ]
  },
  {
   "cell_type": "code",
   "execution_count": 8,
   "metadata": {},
   "outputs": [],
   "source": [
    "from torchvision.transforms.transforms import ToPILImage\n",
    "from torchvision import transforms"
   ]
  },
  {
   "cell_type": "code",
   "execution_count": 9,
   "metadata": {},
   "outputs": [
    {
     "name": "stderr",
     "output_type": "stream",
     "text": [
      "d:\\ProgrammingRelated\\AnacondaNavigator\\envs\\pytorch_gpu_cuda\\Lib\\site-packages\\torchvision\\models\\_utils.py:208: UserWarning: The parameter 'pretrained' is deprecated since 0.13 and may be removed in the future, please use 'weights' instead.\n",
      "  warnings.warn(\n",
      "d:\\ProgrammingRelated\\AnacondaNavigator\\envs\\pytorch_gpu_cuda\\Lib\\site-packages\\torchvision\\models\\_utils.py:223: UserWarning: Arguments other than a weight enum or `None` for 'weights' are deprecated since 0.13 and may be removed in the future. The current behavior is equivalent to passing `weights=ResNet50_Weights.IMAGENET1K_V1`. You can also use `weights=ResNet50_Weights.DEFAULT` to get the most up-to-date weights.\n",
      "  warnings.warn(msg)\n"
     ]
    }
   ],
   "source": [
    "\n",
    "model = torchvision.models.resnet50(pretrained=True)\n",
    "model.eval()\n",
    "target_layer= model.layer4[-1]"
   ]
  },
  {
   "cell_type": "code",
   "execution_count": 19,
   "metadata": {},
   "outputs": [],
   "source": [
    "def ResNetModel(img_channel=3, num_classes=25, norm_type='bn'):\n",
    "    return ResNet(Block, [2,2,2], img_channel, num_classes, norm_type)"
   ]
  },
  {
   "cell_type": "code",
   "execution_count": 20,
   "metadata": {},
   "outputs": [],
   "source": [
    "device = torch.device(\"cuda\" if torch.cuda.is_available() else \"cpu\")"
   ]
  },
  {
   "cell_type": "code",
   "execution_count": 42,
   "metadata": {},
   "outputs": [],
   "source": [
    "model2 = ResNetModel(img_channel=3, norm_type='gn',num_classes=25).to(device)"
   ]
  },
  {
   "cell_type": "code",
   "execution_count": 43,
   "metadata": {},
   "outputs": [],
   "source": [
    "# state_dict = torch.load('model.pth')"
   ]
  },
  {
   "cell_type": "code",
   "execution_count": 46,
   "metadata": {},
   "outputs": [
    {
     "data": {
      "text/plain": [
       "ResNet(\n",
       "  (conv1): Conv2d(3, 16, kernel_size=(3, 3), stride=(1, 1), padding=(1, 1), bias=False)\n",
       "  (norm): GroupNorm()\n",
       "  (relu): ReLU()\n",
       "  (layer1): Sequential(\n",
       "    (0): Block(\n",
       "      (conv1): Conv2d(16, 16, kernel_size=(3, 3), stride=(1, 1), padding=(1, 1), bias=False)\n",
       "      (nl1): GroupNorm()\n",
       "      (nl2): GroupNorm()\n",
       "      (conv2): Conv2d(16, 32, kernel_size=(3, 3), stride=(1, 1), padding=(1, 1), bias=False)\n",
       "      (relu): ReLU()\n",
       "      (identity_downsample): Sequential(\n",
       "        (0): Conv2d(16, 32, kernel_size=(1, 1), stride=(1, 1), bias=False)\n",
       "        (1): GroupNorm()\n",
       "      )\n",
       "    )\n",
       "    (1): Block(\n",
       "      (conv1): Conv2d(32, 16, kernel_size=(3, 3), stride=(1, 1), padding=(1, 1), bias=False)\n",
       "      (nl1): GroupNorm()\n",
       "      (nl2): GroupNorm()\n",
       "      (conv2): Conv2d(16, 32, kernel_size=(3, 3), stride=(1, 1), padding=(1, 1), bias=False)\n",
       "      (relu): ReLU()\n",
       "    )\n",
       "  )\n",
       "  (layer2): Sequential(\n",
       "    (0): Block(\n",
       "      (conv1): Conv2d(32, 32, kernel_size=(3, 3), stride=(2, 2), padding=(1, 1), bias=False)\n",
       "      (nl1): GroupNorm()\n",
       "      (nl2): GroupNorm()\n",
       "      (conv2): Conv2d(32, 64, kernel_size=(3, 3), stride=(1, 1), padding=(1, 1), bias=False)\n",
       "      (relu): ReLU()\n",
       "      (identity_downsample): Sequential(\n",
       "        (0): Conv2d(32, 64, kernel_size=(1, 1), stride=(2, 2), bias=False)\n",
       "        (1): GroupNorm()\n",
       "      )\n",
       "    )\n",
       "    (1): Block(\n",
       "      (conv1): Conv2d(64, 32, kernel_size=(3, 3), stride=(1, 1), padding=(1, 1), bias=False)\n",
       "      (nl1): GroupNorm()\n",
       "      (nl2): GroupNorm()\n",
       "      (conv2): Conv2d(32, 64, kernel_size=(3, 3), stride=(1, 1), padding=(1, 1), bias=False)\n",
       "      (relu): ReLU()\n",
       "    )\n",
       "  )\n",
       "  (layer3): Sequential(\n",
       "    (0): Block(\n",
       "      (conv1): Conv2d(64, 64, kernel_size=(3, 3), stride=(2, 2), padding=(1, 1), bias=False)\n",
       "      (nl1): GroupNorm()\n",
       "      (nl2): GroupNorm()\n",
       "      (conv2): Conv2d(64, 128, kernel_size=(3, 3), stride=(1, 1), padding=(1, 1), bias=False)\n",
       "      (relu): ReLU()\n",
       "      (identity_downsample): Sequential(\n",
       "        (0): Conv2d(64, 128, kernel_size=(1, 1), stride=(2, 2), bias=False)\n",
       "        (1): GroupNorm()\n",
       "      )\n",
       "    )\n",
       "    (1): Block(\n",
       "      (conv1): Conv2d(128, 64, kernel_size=(3, 3), stride=(1, 1), padding=(1, 1), bias=False)\n",
       "      (nl1): GroupNorm()\n",
       "      (nl2): GroupNorm()\n",
       "      (conv2): Conv2d(64, 128, kernel_size=(3, 3), stride=(1, 1), padding=(1, 1), bias=False)\n",
       "      (relu): ReLU()\n",
       "    )\n",
       "  )\n",
       "  (avgpool): AdaptiveAvgPool2d(output_size=(8, 8))\n",
       "  (fc): Linear(in_features=8192, out_features=25, bias=True)\n",
       ")"
      ]
     },
     "execution_count": 46,
     "metadata": {},
     "output_type": "execute_result"
    }
   ],
   "source": [
    "\n",
    "model2"
   ]
  },
  {
   "cell_type": "code",
   "execution_count": 47,
   "metadata": {},
   "outputs": [
    {
     "name": "stdout",
     "output_type": "stream",
     "text": [
      "conv1.weight torch.Size([16, 3, 3, 3])\n",
      "norm.gamma torch.Size([1, 4, 1, 1])\n",
      "norm.beta torch.Size([1, 4, 1, 1])\n",
      "layer1.0.conv1.weight torch.Size([16, 16, 3, 3])\n",
      "layer1.0.nl1.gamma torch.Size([1, 4, 1, 1])\n",
      "layer1.0.nl1.beta torch.Size([1, 4, 1, 1])\n",
      "layer1.0.nl2.gamma torch.Size([1, 4, 1, 1])\n",
      "layer1.0.nl2.beta torch.Size([1, 4, 1, 1])\n",
      "layer1.0.conv2.weight torch.Size([32, 16, 3, 3])\n",
      "layer1.0.identity_downsample.0.weight torch.Size([32, 16, 1, 1])\n",
      "layer1.0.identity_downsample.1.gamma torch.Size([1, 4, 1, 1])\n",
      "layer1.0.identity_downsample.1.beta torch.Size([1, 4, 1, 1])\n",
      "layer1.1.conv1.weight torch.Size([16, 32, 3, 3])\n",
      "layer1.1.nl1.gamma torch.Size([1, 4, 1, 1])\n",
      "layer1.1.nl1.beta torch.Size([1, 4, 1, 1])\n",
      "layer1.1.nl2.gamma torch.Size([1, 4, 1, 1])\n",
      "layer1.1.nl2.beta torch.Size([1, 4, 1, 1])\n",
      "layer1.1.conv2.weight torch.Size([32, 16, 3, 3])\n",
      "layer2.0.conv1.weight torch.Size([32, 32, 3, 3])\n",
      "layer2.0.nl1.gamma torch.Size([1, 4, 1, 1])\n",
      "layer2.0.nl1.beta torch.Size([1, 4, 1, 1])\n",
      "layer2.0.nl2.gamma torch.Size([1, 4, 1, 1])\n",
      "layer2.0.nl2.beta torch.Size([1, 4, 1, 1])\n",
      "layer2.0.conv2.weight torch.Size([64, 32, 3, 3])\n",
      "layer2.0.identity_downsample.0.weight torch.Size([64, 32, 1, 1])\n",
      "layer2.0.identity_downsample.1.gamma torch.Size([1, 4, 1, 1])\n",
      "layer2.0.identity_downsample.1.beta torch.Size([1, 4, 1, 1])\n",
      "layer2.1.conv1.weight torch.Size([32, 64, 3, 3])\n",
      "layer2.1.nl1.gamma torch.Size([1, 4, 1, 1])\n",
      "layer2.1.nl1.beta torch.Size([1, 4, 1, 1])\n",
      "layer2.1.nl2.gamma torch.Size([1, 4, 1, 1])\n",
      "layer2.1.nl2.beta torch.Size([1, 4, 1, 1])\n",
      "layer2.1.conv2.weight torch.Size([64, 32, 3, 3])\n",
      "layer3.0.conv1.weight torch.Size([64, 64, 3, 3])\n",
      "layer3.0.nl1.gamma torch.Size([1, 4, 1, 1])\n",
      "layer3.0.nl1.beta torch.Size([1, 4, 1, 1])\n",
      "layer3.0.nl2.gamma torch.Size([1, 4, 1, 1])\n",
      "layer3.0.nl2.beta torch.Size([1, 4, 1, 1])\n",
      "layer3.0.conv2.weight torch.Size([128, 64, 3, 3])\n",
      "layer3.0.identity_downsample.0.weight torch.Size([128, 64, 1, 1])\n",
      "layer3.0.identity_downsample.1.gamma torch.Size([1, 4, 1, 1])\n",
      "layer3.0.identity_downsample.1.beta torch.Size([1, 4, 1, 1])\n",
      "layer3.1.conv1.weight torch.Size([64, 128, 3, 3])\n",
      "layer3.1.nl1.gamma torch.Size([1, 4, 1, 1])\n",
      "layer3.1.nl1.beta torch.Size([1, 4, 1, 1])\n",
      "layer3.1.nl2.gamma torch.Size([1, 4, 1, 1])\n",
      "layer3.1.nl2.beta torch.Size([1, 4, 1, 1])\n",
      "layer3.1.conv2.weight torch.Size([128, 64, 3, 3])\n",
      "fc.weight torch.Size([25, 8192])\n",
      "fc.bias torch.Size([25])\n"
     ]
    }
   ],
   "source": [
    "for name, param in model2.named_parameters():\n",
    "    print(name, param.shape)\n"
   ]
  },
  {
   "cell_type": "code",
   "execution_count": 48,
   "metadata": {},
   "outputs": [
    {
     "data": {
      "text/plain": [
       "ResNet(\n",
       "  (conv1): Conv2d(3, 16, kernel_size=(3, 3), stride=(1, 1), padding=(1, 1), bias=False)\n",
       "  (norm): GroupNorm()\n",
       "  (relu): ReLU()\n",
       "  (layer1): Sequential(\n",
       "    (0): Block(\n",
       "      (conv1): Conv2d(16, 16, kernel_size=(3, 3), stride=(1, 1), padding=(1, 1), bias=False)\n",
       "      (nl1): GroupNorm()\n",
       "      (nl2): GroupNorm()\n",
       "      (conv2): Conv2d(16, 32, kernel_size=(3, 3), stride=(1, 1), padding=(1, 1), bias=False)\n",
       "      (relu): ReLU()\n",
       "      (identity_downsample): Sequential(\n",
       "        (0): Conv2d(16, 32, kernel_size=(1, 1), stride=(1, 1), bias=False)\n",
       "        (1): GroupNorm()\n",
       "      )\n",
       "    )\n",
       "    (1): Block(\n",
       "      (conv1): Conv2d(32, 16, kernel_size=(3, 3), stride=(1, 1), padding=(1, 1), bias=False)\n",
       "      (nl1): GroupNorm()\n",
       "      (nl2): GroupNorm()\n",
       "      (conv2): Conv2d(16, 32, kernel_size=(3, 3), stride=(1, 1), padding=(1, 1), bias=False)\n",
       "      (relu): ReLU()\n",
       "    )\n",
       "  )\n",
       "  (layer2): Sequential(\n",
       "    (0): Block(\n",
       "      (conv1): Conv2d(32, 32, kernel_size=(3, 3), stride=(2, 2), padding=(1, 1), bias=False)\n",
       "      (nl1): GroupNorm()\n",
       "      (nl2): GroupNorm()\n",
       "      (conv2): Conv2d(32, 64, kernel_size=(3, 3), stride=(1, 1), padding=(1, 1), bias=False)\n",
       "      (relu): ReLU()\n",
       "      (identity_downsample): Sequential(\n",
       "        (0): Conv2d(32, 64, kernel_size=(1, 1), stride=(2, 2), bias=False)\n",
       "        (1): GroupNorm()\n",
       "      )\n",
       "    )\n",
       "    (1): Block(\n",
       "      (conv1): Conv2d(64, 32, kernel_size=(3, 3), stride=(1, 1), padding=(1, 1), bias=False)\n",
       "      (nl1): GroupNorm()\n",
       "      (nl2): GroupNorm()\n",
       "      (conv2): Conv2d(32, 64, kernel_size=(3, 3), stride=(1, 1), padding=(1, 1), bias=False)\n",
       "      (relu): ReLU()\n",
       "    )\n",
       "  )\n",
       "  (layer3): Sequential(\n",
       "    (0): Block(\n",
       "      (conv1): Conv2d(64, 64, kernel_size=(3, 3), stride=(2, 2), padding=(1, 1), bias=False)\n",
       "      (nl1): GroupNorm()\n",
       "      (nl2): GroupNorm()\n",
       "      (conv2): Conv2d(64, 128, kernel_size=(3, 3), stride=(1, 1), padding=(1, 1), bias=False)\n",
       "      (relu): ReLU()\n",
       "      (identity_downsample): Sequential(\n",
       "        (0): Conv2d(64, 128, kernel_size=(1, 1), stride=(2, 2), bias=False)\n",
       "        (1): GroupNorm()\n",
       "      )\n",
       "    )\n",
       "    (1): Block(\n",
       "      (conv1): Conv2d(128, 64, kernel_size=(3, 3), stride=(1, 1), padding=(1, 1), bias=False)\n",
       "      (nl1): GroupNorm()\n",
       "      (nl2): GroupNorm()\n",
       "      (conv2): Conv2d(64, 128, kernel_size=(3, 3), stride=(1, 1), padding=(1, 1), bias=False)\n",
       "      (relu): ReLU()\n",
       "    )\n",
       "  )\n",
       "  (avgpool): AdaptiveAvgPool2d(output_size=(8, 8))\n",
       "  (fc): Linear(in_features=8192, out_features=25, bias=True)\n",
       ")"
      ]
     },
     "execution_count": 48,
     "metadata": {},
     "output_type": "execute_result"
    }
   ],
   "source": [
    "model2.eval()"
   ]
  },
  {
   "cell_type": "code",
   "execution_count": 32,
   "metadata": {},
   "outputs": [
    {
     "data": {
      "text/plain": [
       "ResNet(\n",
       "  (conv1): Conv2d(3, 64, kernel_size=(7, 7), stride=(2, 2), padding=(3, 3), bias=False)\n",
       "  (bn1): BatchNorm2d(64, eps=1e-05, momentum=0.1, affine=True, track_running_stats=True)\n",
       "  (relu): ReLU(inplace=True)\n",
       "  (maxpool): MaxPool2d(kernel_size=3, stride=2, padding=1, dilation=1, ceil_mode=False)\n",
       "  (layer1): Sequential(\n",
       "    (0): Bottleneck(\n",
       "      (conv1): Conv2d(64, 64, kernel_size=(1, 1), stride=(1, 1), bias=False)\n",
       "      (bn1): BatchNorm2d(64, eps=1e-05, momentum=0.1, affine=True, track_running_stats=True)\n",
       "      (conv2): Conv2d(64, 64, kernel_size=(3, 3), stride=(1, 1), padding=(1, 1), bias=False)\n",
       "      (bn2): BatchNorm2d(64, eps=1e-05, momentum=0.1, affine=True, track_running_stats=True)\n",
       "      (conv3): Conv2d(64, 256, kernel_size=(1, 1), stride=(1, 1), bias=False)\n",
       "      (bn3): BatchNorm2d(256, eps=1e-05, momentum=0.1, affine=True, track_running_stats=True)\n",
       "      (relu): ReLU(inplace=True)\n",
       "      (downsample): Sequential(\n",
       "        (0): Conv2d(64, 256, kernel_size=(1, 1), stride=(1, 1), bias=False)\n",
       "        (1): BatchNorm2d(256, eps=1e-05, momentum=0.1, affine=True, track_running_stats=True)\n",
       "      )\n",
       "    )\n",
       "    (1): Bottleneck(\n",
       "      (conv1): Conv2d(256, 64, kernel_size=(1, 1), stride=(1, 1), bias=False)\n",
       "      (bn1): BatchNorm2d(64, eps=1e-05, momentum=0.1, affine=True, track_running_stats=True)\n",
       "      (conv2): Conv2d(64, 64, kernel_size=(3, 3), stride=(1, 1), padding=(1, 1), bias=False)\n",
       "      (bn2): BatchNorm2d(64, eps=1e-05, momentum=0.1, affine=True, track_running_stats=True)\n",
       "      (conv3): Conv2d(64, 256, kernel_size=(1, 1), stride=(1, 1), bias=False)\n",
       "      (bn3): BatchNorm2d(256, eps=1e-05, momentum=0.1, affine=True, track_running_stats=True)\n",
       "      (relu): ReLU(inplace=True)\n",
       "    )\n",
       "    (2): Bottleneck(\n",
       "      (conv1): Conv2d(256, 64, kernel_size=(1, 1), stride=(1, 1), bias=False)\n",
       "      (bn1): BatchNorm2d(64, eps=1e-05, momentum=0.1, affine=True, track_running_stats=True)\n",
       "      (conv2): Conv2d(64, 64, kernel_size=(3, 3), stride=(1, 1), padding=(1, 1), bias=False)\n",
       "      (bn2): BatchNorm2d(64, eps=1e-05, momentum=0.1, affine=True, track_running_stats=True)\n",
       "      (conv3): Conv2d(64, 256, kernel_size=(1, 1), stride=(1, 1), bias=False)\n",
       "      (bn3): BatchNorm2d(256, eps=1e-05, momentum=0.1, affine=True, track_running_stats=True)\n",
       "      (relu): ReLU(inplace=True)\n",
       "    )\n",
       "  )\n",
       "  (layer2): Sequential(\n",
       "    (0): Bottleneck(\n",
       "      (conv1): Conv2d(256, 128, kernel_size=(1, 1), stride=(1, 1), bias=False)\n",
       "      (bn1): BatchNorm2d(128, eps=1e-05, momentum=0.1, affine=True, track_running_stats=True)\n",
       "      (conv2): Conv2d(128, 128, kernel_size=(3, 3), stride=(2, 2), padding=(1, 1), bias=False)\n",
       "      (bn2): BatchNorm2d(128, eps=1e-05, momentum=0.1, affine=True, track_running_stats=True)\n",
       "      (conv3): Conv2d(128, 512, kernel_size=(1, 1), stride=(1, 1), bias=False)\n",
       "      (bn3): BatchNorm2d(512, eps=1e-05, momentum=0.1, affine=True, track_running_stats=True)\n",
       "      (relu): ReLU(inplace=True)\n",
       "      (downsample): Sequential(\n",
       "        (0): Conv2d(256, 512, kernel_size=(1, 1), stride=(2, 2), bias=False)\n",
       "        (1): BatchNorm2d(512, eps=1e-05, momentum=0.1, affine=True, track_running_stats=True)\n",
       "      )\n",
       "    )\n",
       "    (1): Bottleneck(\n",
       "      (conv1): Conv2d(512, 128, kernel_size=(1, 1), stride=(1, 1), bias=False)\n",
       "      (bn1): BatchNorm2d(128, eps=1e-05, momentum=0.1, affine=True, track_running_stats=True)\n",
       "      (conv2): Conv2d(128, 128, kernel_size=(3, 3), stride=(1, 1), padding=(1, 1), bias=False)\n",
       "      (bn2): BatchNorm2d(128, eps=1e-05, momentum=0.1, affine=True, track_running_stats=True)\n",
       "      (conv3): Conv2d(128, 512, kernel_size=(1, 1), stride=(1, 1), bias=False)\n",
       "      (bn3): BatchNorm2d(512, eps=1e-05, momentum=0.1, affine=True, track_running_stats=True)\n",
       "      (relu): ReLU(inplace=True)\n",
       "    )\n",
       "    (2): Bottleneck(\n",
       "      (conv1): Conv2d(512, 128, kernel_size=(1, 1), stride=(1, 1), bias=False)\n",
       "      (bn1): BatchNorm2d(128, eps=1e-05, momentum=0.1, affine=True, track_running_stats=True)\n",
       "      (conv2): Conv2d(128, 128, kernel_size=(3, 3), stride=(1, 1), padding=(1, 1), bias=False)\n",
       "      (bn2): BatchNorm2d(128, eps=1e-05, momentum=0.1, affine=True, track_running_stats=True)\n",
       "      (conv3): Conv2d(128, 512, kernel_size=(1, 1), stride=(1, 1), bias=False)\n",
       "      (bn3): BatchNorm2d(512, eps=1e-05, momentum=0.1, affine=True, track_running_stats=True)\n",
       "      (relu): ReLU(inplace=True)\n",
       "    )\n",
       "    (3): Bottleneck(\n",
       "      (conv1): Conv2d(512, 128, kernel_size=(1, 1), stride=(1, 1), bias=False)\n",
       "      (bn1): BatchNorm2d(128, eps=1e-05, momentum=0.1, affine=True, track_running_stats=True)\n",
       "      (conv2): Conv2d(128, 128, kernel_size=(3, 3), stride=(1, 1), padding=(1, 1), bias=False)\n",
       "      (bn2): BatchNorm2d(128, eps=1e-05, momentum=0.1, affine=True, track_running_stats=True)\n",
       "      (conv3): Conv2d(128, 512, kernel_size=(1, 1), stride=(1, 1), bias=False)\n",
       "      (bn3): BatchNorm2d(512, eps=1e-05, momentum=0.1, affine=True, track_running_stats=True)\n",
       "      (relu): ReLU(inplace=True)\n",
       "    )\n",
       "  )\n",
       "  (layer3): Sequential(\n",
       "    (0): Bottleneck(\n",
       "      (conv1): Conv2d(512, 256, kernel_size=(1, 1), stride=(1, 1), bias=False)\n",
       "      (bn1): BatchNorm2d(256, eps=1e-05, momentum=0.1, affine=True, track_running_stats=True)\n",
       "      (conv2): Conv2d(256, 256, kernel_size=(3, 3), stride=(2, 2), padding=(1, 1), bias=False)\n",
       "      (bn2): BatchNorm2d(256, eps=1e-05, momentum=0.1, affine=True, track_running_stats=True)\n",
       "      (conv3): Conv2d(256, 1024, kernel_size=(1, 1), stride=(1, 1), bias=False)\n",
       "      (bn3): BatchNorm2d(1024, eps=1e-05, momentum=0.1, affine=True, track_running_stats=True)\n",
       "      (relu): ReLU(inplace=True)\n",
       "      (downsample): Sequential(\n",
       "        (0): Conv2d(512, 1024, kernel_size=(1, 1), stride=(2, 2), bias=False)\n",
       "        (1): BatchNorm2d(1024, eps=1e-05, momentum=0.1, affine=True, track_running_stats=True)\n",
       "      )\n",
       "    )\n",
       "    (1): Bottleneck(\n",
       "      (conv1): Conv2d(1024, 256, kernel_size=(1, 1), stride=(1, 1), bias=False)\n",
       "      (bn1): BatchNorm2d(256, eps=1e-05, momentum=0.1, affine=True, track_running_stats=True)\n",
       "      (conv2): Conv2d(256, 256, kernel_size=(3, 3), stride=(1, 1), padding=(1, 1), bias=False)\n",
       "      (bn2): BatchNorm2d(256, eps=1e-05, momentum=0.1, affine=True, track_running_stats=True)\n",
       "      (conv3): Conv2d(256, 1024, kernel_size=(1, 1), stride=(1, 1), bias=False)\n",
       "      (bn3): BatchNorm2d(1024, eps=1e-05, momentum=0.1, affine=True, track_running_stats=True)\n",
       "      (relu): ReLU(inplace=True)\n",
       "    )\n",
       "    (2): Bottleneck(\n",
       "      (conv1): Conv2d(1024, 256, kernel_size=(1, 1), stride=(1, 1), bias=False)\n",
       "      (bn1): BatchNorm2d(256, eps=1e-05, momentum=0.1, affine=True, track_running_stats=True)\n",
       "      (conv2): Conv2d(256, 256, kernel_size=(3, 3), stride=(1, 1), padding=(1, 1), bias=False)\n",
       "      (bn2): BatchNorm2d(256, eps=1e-05, momentum=0.1, affine=True, track_running_stats=True)\n",
       "      (conv3): Conv2d(256, 1024, kernel_size=(1, 1), stride=(1, 1), bias=False)\n",
       "      (bn3): BatchNorm2d(1024, eps=1e-05, momentum=0.1, affine=True, track_running_stats=True)\n",
       "      (relu): ReLU(inplace=True)\n",
       "    )\n",
       "    (3): Bottleneck(\n",
       "      (conv1): Conv2d(1024, 256, kernel_size=(1, 1), stride=(1, 1), bias=False)\n",
       "      (bn1): BatchNorm2d(256, eps=1e-05, momentum=0.1, affine=True, track_running_stats=True)\n",
       "      (conv2): Conv2d(256, 256, kernel_size=(3, 3), stride=(1, 1), padding=(1, 1), bias=False)\n",
       "      (bn2): BatchNorm2d(256, eps=1e-05, momentum=0.1, affine=True, track_running_stats=True)\n",
       "      (conv3): Conv2d(256, 1024, kernel_size=(1, 1), stride=(1, 1), bias=False)\n",
       "      (bn3): BatchNorm2d(1024, eps=1e-05, momentum=0.1, affine=True, track_running_stats=True)\n",
       "      (relu): ReLU(inplace=True)\n",
       "    )\n",
       "    (4): Bottleneck(\n",
       "      (conv1): Conv2d(1024, 256, kernel_size=(1, 1), stride=(1, 1), bias=False)\n",
       "      (bn1): BatchNorm2d(256, eps=1e-05, momentum=0.1, affine=True, track_running_stats=True)\n",
       "      (conv2): Conv2d(256, 256, kernel_size=(3, 3), stride=(1, 1), padding=(1, 1), bias=False)\n",
       "      (bn2): BatchNorm2d(256, eps=1e-05, momentum=0.1, affine=True, track_running_stats=True)\n",
       "      (conv3): Conv2d(256, 1024, kernel_size=(1, 1), stride=(1, 1), bias=False)\n",
       "      (bn3): BatchNorm2d(1024, eps=1e-05, momentum=0.1, affine=True, track_running_stats=True)\n",
       "      (relu): ReLU(inplace=True)\n",
       "    )\n",
       "    (5): Bottleneck(\n",
       "      (conv1): Conv2d(1024, 256, kernel_size=(1, 1), stride=(1, 1), bias=False)\n",
       "      (bn1): BatchNorm2d(256, eps=1e-05, momentum=0.1, affine=True, track_running_stats=True)\n",
       "      (conv2): Conv2d(256, 256, kernel_size=(3, 3), stride=(1, 1), padding=(1, 1), bias=False)\n",
       "      (bn2): BatchNorm2d(256, eps=1e-05, momentum=0.1, affine=True, track_running_stats=True)\n",
       "      (conv3): Conv2d(256, 1024, kernel_size=(1, 1), stride=(1, 1), bias=False)\n",
       "      (bn3): BatchNorm2d(1024, eps=1e-05, momentum=0.1, affine=True, track_running_stats=True)\n",
       "      (relu): ReLU(inplace=True)\n",
       "    )\n",
       "  )\n",
       "  (layer4): Sequential(\n",
       "    (0): Bottleneck(\n",
       "      (conv1): Conv2d(1024, 512, kernel_size=(1, 1), stride=(1, 1), bias=False)\n",
       "      (bn1): BatchNorm2d(512, eps=1e-05, momentum=0.1, affine=True, track_running_stats=True)\n",
       "      (conv2): Conv2d(512, 512, kernel_size=(3, 3), stride=(2, 2), padding=(1, 1), bias=False)\n",
       "      (bn2): BatchNorm2d(512, eps=1e-05, momentum=0.1, affine=True, track_running_stats=True)\n",
       "      (conv3): Conv2d(512, 2048, kernel_size=(1, 1), stride=(1, 1), bias=False)\n",
       "      (bn3): BatchNorm2d(2048, eps=1e-05, momentum=0.1, affine=True, track_running_stats=True)\n",
       "      (relu): ReLU(inplace=True)\n",
       "      (downsample): Sequential(\n",
       "        (0): Conv2d(1024, 2048, kernel_size=(1, 1), stride=(2, 2), bias=False)\n",
       "        (1): BatchNorm2d(2048, eps=1e-05, momentum=0.1, affine=True, track_running_stats=True)\n",
       "      )\n",
       "    )\n",
       "    (1): Bottleneck(\n",
       "      (conv1): Conv2d(2048, 512, kernel_size=(1, 1), stride=(1, 1), bias=False)\n",
       "      (bn1): BatchNorm2d(512, eps=1e-05, momentum=0.1, affine=True, track_running_stats=True)\n",
       "      (conv2): Conv2d(512, 512, kernel_size=(3, 3), stride=(1, 1), padding=(1, 1), bias=False)\n",
       "      (bn2): BatchNorm2d(512, eps=1e-05, momentum=0.1, affine=True, track_running_stats=True)\n",
       "      (conv3): Conv2d(512, 2048, kernel_size=(1, 1), stride=(1, 1), bias=False)\n",
       "      (bn3): BatchNorm2d(2048, eps=1e-05, momentum=0.1, affine=True, track_running_stats=True)\n",
       "      (relu): ReLU(inplace=True)\n",
       "    )\n",
       "    (2): Bottleneck(\n",
       "      (conv1): Conv2d(2048, 512, kernel_size=(1, 1), stride=(1, 1), bias=False)\n",
       "      (bn1): BatchNorm2d(512, eps=1e-05, momentum=0.1, affine=True, track_running_stats=True)\n",
       "      (conv2): Conv2d(512, 512, kernel_size=(3, 3), stride=(1, 1), padding=(1, 1), bias=False)\n",
       "      (bn2): BatchNorm2d(512, eps=1e-05, momentum=0.1, affine=True, track_running_stats=True)\n",
       "      (conv3): Conv2d(512, 2048, kernel_size=(1, 1), stride=(1, 1), bias=False)\n",
       "      (bn3): BatchNorm2d(2048, eps=1e-05, momentum=0.1, affine=True, track_running_stats=True)\n",
       "      (relu): ReLU(inplace=True)\n",
       "    )\n",
       "  )\n",
       "  (avgpool): AdaptiveAvgPool2d(output_size=(1, 1))\n",
       "  (fc): Linear(in_features=2048, out_features=1000, bias=True)\n",
       ")"
      ]
     },
     "execution_count": 32,
     "metadata": {},
     "output_type": "execute_result"
    }
   ],
   "source": [
    "model.eval()\n"
   ]
  },
  {
   "cell_type": "code",
   "execution_count": 50,
   "metadata": {},
   "outputs": [],
   "source": [
    "target_layer= model2.layer3[-1]"
   ]
  },
  {
   "cell_type": "code",
   "execution_count": 33,
   "metadata": {},
   "outputs": [],
   "source": [
    "target_layer= model.layer4[-1]"
   ]
  },
  {
   "cell_type": "code",
   "execution_count": 67,
   "metadata": {},
   "outputs": [],
   "source": [
    "#pic=cv2.imread('both.png',1)\n",
    "pic=cv2.imread('input_image1.jpg',1)\n",
    "# BGR to RGB\n",
    "img = pic.copy()\n",
    "img=img[:,:,::-1]\n",
    "img=np.ascontiguousarray(img)\n",
    "\n",
    "# Convert the Torrch Tensor\n",
    "trans=transforms.Compose([transforms.ToTensor()])\n",
    "img=trans(img)\n",
    "\n",
    "# Add Batch dimension\n",
    "img=img.unsqueeze(0)"
   ]
  },
  {
   "cell_type": "code",
   "execution_count": 34,
   "metadata": {},
   "outputs": [],
   "source": [
    "#pic=cv2.imread('both.png',1)\n",
    "pic=cv2.imread('input_image1.jpg',1)\n",
    "# BGR to RGB\n",
    "img = pic.copy()\n",
    "img=img[:,:,::-1]\n",
    "img=np.ascontiguousarray(img)\n",
    "\n",
    "# Convert the Torrch Tensor\n",
    "trans=transforms.Compose([transforms.ToTensor()])\n",
    "img=trans(img)\n",
    "\n",
    "# Add Batch dimension\n",
    "img=img.unsqueeze(0)"
   ]
  },
  {
   "cell_type": "code",
   "execution_count": 63,
   "metadata": {},
   "outputs": [
    {
     "name": "stdout",
     "output_type": "stream",
     "text": [
      "torch.Size([4, 3, 224, 224])\n"
     ]
    }
   ],
   "source": [
    "# Assuming you have 4 image filenames\n",
    "image_files = [\"input_image1.jpg\", \"input_image2.jpg\", \"input_image3.jpg\", \"input_image4.jpg\"]\n",
    "\n",
    "# Define a transformation to apply to each image\n",
    "transform = transforms.Compose([\n",
    "    transforms.Resize((224, 224)),  # Resize each image to (224, 224)\n",
    "    transforms.ToTensor()  # Convert each image to a PyTorch tensor\n",
    "])\n",
    "\n",
    "# Load each image, apply the transformation, and collect them in a list\n",
    "images = []\n",
    "for filename in image_files:\n",
    "    image = Image.open(filename)\n",
    "    image = transform(image)\n",
    "    images.append(image)\n",
    "\n",
    "# Stack the images along a new dimension (0) to create a single tensor\n",
    "images_tensor = torch.stack(images, dim=0)\n",
    "\n",
    "# Verify the shape of the final tensor\n",
    "print(images_tensor.shape)  # Output: torch.Size([4, 3, 224, 224])"
   ]
  },
  {
   "cell_type": "code",
   "execution_count": 64,
   "metadata": {},
   "outputs": [
    {
     "data": {
      "text/plain": [
       "torch.Size([4, 3, 224, 224])"
      ]
     },
     "execution_count": 64,
     "metadata": {},
     "output_type": "execute_result"
    }
   ],
   "source": [
    "images_tensor.shape"
   ]
  },
  {
   "cell_type": "code",
   "execution_count": 68,
   "metadata": {},
   "outputs": [
    {
     "name": "stdout",
     "output_type": "stream",
     "text": [
      "tensor(243)\n",
      "(1024, 14, 14)\n",
      "(2048, 7, 7)\n"
     ]
    }
   ],
   "source": [
    "def forward_hook(module,input,output):\n",
    "  activation.append(output)\n",
    "\n",
    "def backward_hook(module,grad_in,grad_out):\n",
    "  grad.append(grad_out[0])\n",
    "\n",
    "# Add hook to get the tensors\n",
    "model.layer3[-1].register_forward_hook(forward_hook)\n",
    "model.layer3[-1].register_backward_hook(backward_hook)\n",
    "\n",
    "\n",
    "grad=[]\n",
    "activation=[]\n",
    "\n",
    "# forward pass to get activations\n",
    "out=model(img)\n",
    "print(torch.argmax(out))\n",
    "\n",
    "# class for dog\n",
    "loss=out[0,0]\n",
    "\n",
    "# class for cat\n",
    "loss=out[0,281]\n",
    "\n",
    "# class for cat\n",
    "loss=out[0,281]\n",
    "\n",
    "# class for golf ball\n",
    "loss=out[0,574]\n",
    "\n",
    "\n",
    "# clear the gradients\n",
    "model2.zero_grad()\n",
    "\n",
    "# backward pass to get gradients\n",
    "loss.backward()\n",
    "\n",
    "# get the gradients and activations collected in the hook\n",
    "grads=grad[0].cpu().data.numpy().squeeze()\n",
    "fmap=activation[0].cpu().data.numpy().squeeze()\n",
    "\n",
    "print(fmap.shape)\n",
    "print(grads.shape)\n"
   ]
  },
  {
   "cell_type": "code",
   "execution_count": 71,
   "metadata": {},
   "outputs": [
    {
     "data": {
      "text/plain": [
       "torch.Size([1, 3, 224, 224])"
      ]
     },
     "execution_count": 71,
     "metadata": {},
     "output_type": "execute_result"
    }
   ],
   "source": [
    "img = img.to('cuda')\n",
    "img.shape"
   ]
  },
  {
   "cell_type": "code",
   "execution_count": 74,
   "metadata": {},
   "outputs": [
    {
     "data": {
      "text/plain": [
       "torch.Size([4, 3, 224, 224])"
      ]
     },
     "execution_count": 74,
     "metadata": {},
     "output_type": "execute_result"
    }
   ],
   "source": [
    "images_tensor= images_tensor.to(device)\n",
    "images_tensor.shape"
   ]
  },
  {
   "cell_type": "code",
   "execution_count": 73,
   "metadata": {},
   "outputs": [
    {
     "ename": "AssertionError",
     "evalue": "",
     "output_type": "error",
     "traceback": [
      "\u001b[1;31m---------------------------------------------------------------------------\u001b[0m",
      "\u001b[1;31mAssertionError\u001b[0m                            Traceback (most recent call last)",
      "Cell \u001b[1;32mIn[73], line 18\u001b[0m\n\u001b[0;32m     15\u001b[0m activation\u001b[38;5;241m=\u001b[39m[]\n\u001b[0;32m     17\u001b[0m \u001b[38;5;66;03m# forward pass to get activations\u001b[39;00m\n\u001b[1;32m---> 18\u001b[0m out\u001b[38;5;241m=\u001b[39mmodel2(images_tensor)\n\u001b[0;32m     19\u001b[0m \u001b[38;5;28mprint\u001b[39m(torch\u001b[38;5;241m.\u001b[39margmax(out))\n\u001b[0;32m     21\u001b[0m \u001b[38;5;66;03m# class for dog\u001b[39;00m\n",
      "File \u001b[1;32md:\\ProgrammingRelated\\AnacondaNavigator\\envs\\pytorch_gpu_cuda\\Lib\\site-packages\\torch\\nn\\modules\\module.py:1511\u001b[0m, in \u001b[0;36mModule._wrapped_call_impl\u001b[1;34m(self, *args, **kwargs)\u001b[0m\n\u001b[0;32m   1509\u001b[0m     \u001b[38;5;28;01mreturn\u001b[39;00m \u001b[38;5;28mself\u001b[39m\u001b[38;5;241m.\u001b[39m_compiled_call_impl(\u001b[38;5;241m*\u001b[39margs, \u001b[38;5;241m*\u001b[39m\u001b[38;5;241m*\u001b[39mkwargs)  \u001b[38;5;66;03m# type: ignore[misc]\u001b[39;00m\n\u001b[0;32m   1510\u001b[0m \u001b[38;5;28;01melse\u001b[39;00m:\n\u001b[1;32m-> 1511\u001b[0m     \u001b[38;5;28;01mreturn\u001b[39;00m \u001b[38;5;28mself\u001b[39m\u001b[38;5;241m.\u001b[39m_call_impl(\u001b[38;5;241m*\u001b[39margs, \u001b[38;5;241m*\u001b[39m\u001b[38;5;241m*\u001b[39mkwargs)\n",
      "File \u001b[1;32md:\\ProgrammingRelated\\AnacondaNavigator\\envs\\pytorch_gpu_cuda\\Lib\\site-packages\\torch\\nn\\modules\\module.py:1520\u001b[0m, in \u001b[0;36mModule._call_impl\u001b[1;34m(self, *args, **kwargs)\u001b[0m\n\u001b[0;32m   1515\u001b[0m \u001b[38;5;66;03m# If we don't have any hooks, we want to skip the rest of the logic in\u001b[39;00m\n\u001b[0;32m   1516\u001b[0m \u001b[38;5;66;03m# this function, and just call forward.\u001b[39;00m\n\u001b[0;32m   1517\u001b[0m \u001b[38;5;28;01mif\u001b[39;00m \u001b[38;5;129;01mnot\u001b[39;00m (\u001b[38;5;28mself\u001b[39m\u001b[38;5;241m.\u001b[39m_backward_hooks \u001b[38;5;129;01mor\u001b[39;00m \u001b[38;5;28mself\u001b[39m\u001b[38;5;241m.\u001b[39m_backward_pre_hooks \u001b[38;5;129;01mor\u001b[39;00m \u001b[38;5;28mself\u001b[39m\u001b[38;5;241m.\u001b[39m_forward_hooks \u001b[38;5;129;01mor\u001b[39;00m \u001b[38;5;28mself\u001b[39m\u001b[38;5;241m.\u001b[39m_forward_pre_hooks\n\u001b[0;32m   1518\u001b[0m         \u001b[38;5;129;01mor\u001b[39;00m _global_backward_pre_hooks \u001b[38;5;129;01mor\u001b[39;00m _global_backward_hooks\n\u001b[0;32m   1519\u001b[0m         \u001b[38;5;129;01mor\u001b[39;00m _global_forward_hooks \u001b[38;5;129;01mor\u001b[39;00m _global_forward_pre_hooks):\n\u001b[1;32m-> 1520\u001b[0m     \u001b[38;5;28;01mreturn\u001b[39;00m forward_call(\u001b[38;5;241m*\u001b[39margs, \u001b[38;5;241m*\u001b[39m\u001b[38;5;241m*\u001b[39mkwargs)\n\u001b[0;32m   1522\u001b[0m \u001b[38;5;28;01mtry\u001b[39;00m:\n\u001b[0;32m   1523\u001b[0m     result \u001b[38;5;241m=\u001b[39m \u001b[38;5;28;01mNone\u001b[39;00m\n",
      "File \u001b[1;32md:\\IITDelhiSoftwares-Documents\\Sem2324\\COL-775\\Assignments\\A1\\resnet.py:82\u001b[0m, in \u001b[0;36mResNet.forward\u001b[1;34m(self, x)\u001b[0m\n\u001b[0;32m     80\u001b[0m \u001b[38;5;28;01mdef\u001b[39;00m \u001b[38;5;21mforward\u001b[39m(\u001b[38;5;28mself\u001b[39m, x):\n\u001b[0;32m     81\u001b[0m     x \u001b[38;5;241m=\u001b[39m \u001b[38;5;28mself\u001b[39m\u001b[38;5;241m.\u001b[39mconv1(x)\n\u001b[1;32m---> 82\u001b[0m     x \u001b[38;5;241m=\u001b[39m \u001b[38;5;28mself\u001b[39m\u001b[38;5;241m.\u001b[39mnorm(x)\n\u001b[0;32m     83\u001b[0m     x \u001b[38;5;241m=\u001b[39m \u001b[38;5;28mself\u001b[39m\u001b[38;5;241m.\u001b[39mrelu(x)\n\u001b[0;32m     85\u001b[0m     x \u001b[38;5;241m=\u001b[39m \u001b[38;5;28mself\u001b[39m\u001b[38;5;241m.\u001b[39mlayer1(x)\n",
      "File \u001b[1;32md:\\ProgrammingRelated\\AnacondaNavigator\\envs\\pytorch_gpu_cuda\\Lib\\site-packages\\torch\\nn\\modules\\module.py:1511\u001b[0m, in \u001b[0;36mModule._wrapped_call_impl\u001b[1;34m(self, *args, **kwargs)\u001b[0m\n\u001b[0;32m   1509\u001b[0m     \u001b[38;5;28;01mreturn\u001b[39;00m \u001b[38;5;28mself\u001b[39m\u001b[38;5;241m.\u001b[39m_compiled_call_impl(\u001b[38;5;241m*\u001b[39margs, \u001b[38;5;241m*\u001b[39m\u001b[38;5;241m*\u001b[39mkwargs)  \u001b[38;5;66;03m# type: ignore[misc]\u001b[39;00m\n\u001b[0;32m   1510\u001b[0m \u001b[38;5;28;01melse\u001b[39;00m:\n\u001b[1;32m-> 1511\u001b[0m     \u001b[38;5;28;01mreturn\u001b[39;00m \u001b[38;5;28mself\u001b[39m\u001b[38;5;241m.\u001b[39m_call_impl(\u001b[38;5;241m*\u001b[39margs, \u001b[38;5;241m*\u001b[39m\u001b[38;5;241m*\u001b[39mkwargs)\n",
      "File \u001b[1;32md:\\ProgrammingRelated\\AnacondaNavigator\\envs\\pytorch_gpu_cuda\\Lib\\site-packages\\torch\\nn\\modules\\module.py:1520\u001b[0m, in \u001b[0;36mModule._call_impl\u001b[1;34m(self, *args, **kwargs)\u001b[0m\n\u001b[0;32m   1515\u001b[0m \u001b[38;5;66;03m# If we don't have any hooks, we want to skip the rest of the logic in\u001b[39;00m\n\u001b[0;32m   1516\u001b[0m \u001b[38;5;66;03m# this function, and just call forward.\u001b[39;00m\n\u001b[0;32m   1517\u001b[0m \u001b[38;5;28;01mif\u001b[39;00m \u001b[38;5;129;01mnot\u001b[39;00m (\u001b[38;5;28mself\u001b[39m\u001b[38;5;241m.\u001b[39m_backward_hooks \u001b[38;5;129;01mor\u001b[39;00m \u001b[38;5;28mself\u001b[39m\u001b[38;5;241m.\u001b[39m_backward_pre_hooks \u001b[38;5;129;01mor\u001b[39;00m \u001b[38;5;28mself\u001b[39m\u001b[38;5;241m.\u001b[39m_forward_hooks \u001b[38;5;129;01mor\u001b[39;00m \u001b[38;5;28mself\u001b[39m\u001b[38;5;241m.\u001b[39m_forward_pre_hooks\n\u001b[0;32m   1518\u001b[0m         \u001b[38;5;129;01mor\u001b[39;00m _global_backward_pre_hooks \u001b[38;5;129;01mor\u001b[39;00m _global_backward_hooks\n\u001b[0;32m   1519\u001b[0m         \u001b[38;5;129;01mor\u001b[39;00m _global_forward_hooks \u001b[38;5;129;01mor\u001b[39;00m _global_forward_pre_hooks):\n\u001b[1;32m-> 1520\u001b[0m     \u001b[38;5;28;01mreturn\u001b[39;00m forward_call(\u001b[38;5;241m*\u001b[39margs, \u001b[38;5;241m*\u001b[39m\u001b[38;5;241m*\u001b[39mkwargs)\n\u001b[0;32m   1522\u001b[0m \u001b[38;5;28;01mtry\u001b[39;00m:\n\u001b[0;32m   1523\u001b[0m     result \u001b[38;5;241m=\u001b[39m \u001b[38;5;28;01mNone\u001b[39;00m\n",
      "File \u001b[1;32md:\\IITDelhiSoftwares-Documents\\Sem2324\\COL-775\\Assignments\\A1\\norm.py:175\u001b[0m, in \u001b[0;36mforward\u001b[1;34m(self, x)\u001b[0m\n\u001b[0;32m    170\u001b[0m         \u001b[38;5;28mself\u001b[39m\u001b[38;5;241m.\u001b[39mbeta \u001b[38;5;241m=\u001b[39m nn\u001b[38;5;241m.\u001b[39mParameter(torch\u001b[38;5;241m.\u001b[39mempty(shape))\n\u001b[0;32m    172\u001b[0m     \u001b[38;5;28mself\u001b[39m\u001b[38;5;241m.\u001b[39m_param_init()\n\u001b[1;32m--> 175\u001b[0m \u001b[38;5;28;01mdef\u001b[39;00m \u001b[38;5;21m_param_init\u001b[39m(\u001b[38;5;28mself\u001b[39m):\n\u001b[0;32m    176\u001b[0m     nn\u001b[38;5;241m.\u001b[39minit\u001b[38;5;241m.\u001b[39mzeros_(\u001b[38;5;28mself\u001b[39m\u001b[38;5;241m.\u001b[39mbeta)\n\u001b[0;32m    177\u001b[0m     nn\u001b[38;5;241m.\u001b[39minit\u001b[38;5;241m.\u001b[39mones_(\u001b[38;5;28mself\u001b[39m\u001b[38;5;241m.\u001b[39mgamma)\n",
      "\u001b[1;31mAssertionError\u001b[0m: "
     ]
    }
   ],
   "source": [
    "\n",
    "\n",
    "def forward_hook(module,input,output):\n",
    "  activation.append(output)\n",
    "\n",
    "def backward_hook(module,grad_in,grad_out):\n",
    "  grad.append(grad_out[0])\n",
    "\n",
    "# Add hook to get the tensors\n",
    "model2.layer3[-1].register_forward_hook(forward_hook)\n",
    "model2.layer3[-1].register_backward_hook(backward_hook)\n",
    "\n",
    "\n",
    "grad=[]\n",
    "activation=[]\n",
    "\n",
    "# forward pass to get activations\n",
    "out=model2(images_tensor)\n",
    "print(torch.argmax(out))\n",
    "\n",
    "# class for dog\n",
    "loss=out[0,0]\n",
    "\n",
    "# class for cat\n",
    "loss=out[0,1]\n",
    "\n",
    "\n",
    "# clear the gradients\n",
    "model2.zero_grad()\n",
    "\n",
    "# backward pass to get gradients\n",
    "loss.backward()\n",
    "\n",
    "# get the gradients and activations collected in the hook\n",
    "grads=grad[0].cpu().data.numpy().squeeze()\n",
    "fmap=activation[0].cpu().data.numpy().squeeze()\n",
    "\n",
    "print(fmap.shape)\n",
    "print(grads.shape)\n"
   ]
  },
  {
   "cell_type": "code",
   "execution_count": 36,
   "metadata": {},
   "outputs": [
    {
     "name": "stdout",
     "output_type": "stream",
     "text": [
      "grads.shape (2048, 7, 7)\n",
      "weights.shape (2048,)\n"
     ]
    }
   ],
   "source": [
    "print(\"grads.shape\",grads.shape)\n",
    "tmp=grads.reshape([grads.shape[0],-1])\n",
    "# Get the mean value of the gradients of every featuremap\n",
    "weights=np.mean(tmp,axis=1)\n",
    "print(\"weights.shape\",weights.shape)"
   ]
  },
  {
   "cell_type": "code",
   "execution_count": 37,
   "metadata": {},
   "outputs": [],
   "source": [
    "cam = np.zeros(grads.shape[1:])\n",
    "for i,w in enumerate(weights):\n",
    "  cam += w*fmap[i,:]"
   ]
  },
  {
   "cell_type": "code",
   "execution_count": 38,
   "metadata": {},
   "outputs": [
    {
     "name": "stdout",
     "output_type": "stream",
     "text": [
      "cam.shape (7, 7)\n",
      "[[-0.00000000e+00 -0.00000000e+00  1.67691392e-02  2.12635070e-02\n",
      "   2.16438779e-02  2.02967858e-02  2.79840299e-03]\n",
      " [-0.00000000e+00  1.96304243e-02  9.43183550e-02  1.73006963e-01\n",
      "   1.26417408e-01  1.13326455e-01  2.12086431e-03]\n",
      " [-0.00000000e+00  1.84743642e-02  1.14161403e-01  1.99547294e-01\n",
      "   1.35103043e-01  1.14653533e-01 -0.00000000e+00]\n",
      " [-0.00000000e+00  9.19564324e-03  7.96038139e-02  9.89134829e-02\n",
      "   2.63077087e-02  1.34511149e-02 -0.00000000e+00]\n",
      " [ 1.35019038e-02 -0.00000000e+00 -0.00000000e+00 -0.00000000e+00\n",
      "  -0.00000000e+00 -0.00000000e+00 -0.00000000e+00]\n",
      " [ 1.61620932e-02 -0.00000000e+00 -0.00000000e+00 -0.00000000e+00\n",
      "  -0.00000000e+00  1.71683968e-04 -0.00000000e+00]\n",
      " [ 1.98188203e-02 -0.00000000e+00 -0.00000000e+00 -0.00000000e+00\n",
      "  -0.00000000e+00 -0.00000000e+00 -0.00000000e+00]]\n",
      "[[-0.00000000e+00 -0.00000000e+00  2.14291580e+01  2.71724771e+01\n",
      "   2.76585503e+01  2.59371114e+01  3.57605832e+00]\n",
      " [-0.00000000e+00  2.50855730e+01  1.20528723e+02  2.21084308e+02\n",
      "   1.61547864e+02  1.44819033e+02  2.71023670e+00]\n",
      " [-0.00000000e+00  2.36082523e+01  1.45886006e+02  2.55000000e+02\n",
      "   1.72647172e+02  1.46514895e+02 -0.00000000e+00]\n",
      " [-0.00000000e+00  1.17510440e+01  1.01725120e+02  1.26400803e+02\n",
      "   3.36184249e+01  1.71890795e+01 -0.00000000e+00]\n",
      " [ 1.72539823e+01 -0.00000000e+00 -0.00000000e+00 -0.00000000e+00\n",
      "  -0.00000000e+00 -0.00000000e+00 -0.00000000e+00]\n",
      " [ 2.06534185e+01 -0.00000000e+00 -0.00000000e+00 -0.00000000e+00\n",
      "  -0.00000000e+00  2.19393663e-01 -0.00000000e+00]\n",
      " [ 2.53263227e+01 -0.00000000e+00 -0.00000000e+00 -0.00000000e+00\n",
      "  -0.00000000e+00 -0.00000000e+00 -0.00000000e+00]]\n",
      "[[False False False False False False False]\n",
      " [False False False  True False False False]\n",
      " [False False False  True False False False]\n",
      " [False False False False False False False]\n",
      " [False False False False False False False]\n",
      " [False False False False False False False]\n",
      " [False False False False False False False]]\n"
     ]
    }
   ],
   "source": [
    "cam = np.zeros(grads.shape[1:])\n",
    "for i,w in enumerate(weights):\n",
    "  cam += w*fmap[i,:]\n",
    "cam=(cam>0)*cam\n",
    "print(\"cam.shape\",cam.shape)\n",
    "print(cam)\n",
    "cam=cam/cam.max()*255\n",
    "print(cam)\n",
    "print(cam > 255*0.85)"
   ]
  },
  {
   "cell_type": "code",
   "execution_count": 39,
   "metadata": {},
   "outputs": [
    {
     "name": "stdout",
     "output_type": "stream",
     "text": [
      "(224, 224, 3)\n",
      "(224, 224)\n",
      "(224, 224, 3)\n"
     ]
    },
    {
     "data": {
      "image/jpeg": "[encoded data removed]",
      "image/png": "[encoded data removed]",
      "text/plain": [
       "<PIL.Image.Image image mode=RGB size=224x224>"
      ]
     },
     "metadata": {},
     "output_type": "display_data"
    }
   ],
   "source": [
    "npic=np.array(torchvision.transforms.ToPILImage()(pic).convert('RGB'))\n",
    "print(npic.shape)\n",
    "\n",
    "cam = cv2.resize(cam,(npic.shape[1],npic.shape[0]))\n",
    "print(cam.shape)\n",
    "\n",
    "heatmap=cv2.applyColorMap(np.uint8(cam),cv2.COLORMAP_JET)\n",
    "\n",
    "cam_img=npic*0.7+heatmap*0.3\n",
    "print(cam_img.shape)\n",
    "#display(Image.fromarray(heatmap[:,:,::-1]))\n",
    "display(torchvision.transforms.ToPILImage()(np.uint8(cam_img[:,:,::-1])))"
   ]
  },
  {
   "cell_type": "code",
   "execution_count": null,
   "metadata": {},
   "outputs": [],
   "source": []
  }
 ],
 "metadata": {
  "kernelspec": {
   "display_name": "Python 3",
   "language": "python",
   "name": "python3"
  },
  "language_info": {
   "codemirror_mode": {
    "name": "ipython",
    "version": 3
   },
   "file_extension": ".py",
   "mimetype": "text/x-python",
   "name": "python",
   "nbconvert_exporter": "python",
   "pygments_lexer": "ipython3",
   "version": "3.11.5"
  }
 },
 "nbformat": 4,
 "nbformat_minor": 2
}
